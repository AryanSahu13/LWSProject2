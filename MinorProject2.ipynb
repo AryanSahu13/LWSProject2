{
  "cells": [
    {
      "cell_type": "markdown",
      "metadata": {
        "id": "view-in-github",
        "colab_type": "text"
      },
      "source": [
        "<a href=\"https://colab.research.google.com/github/AryanSahu13/LWSProject2/blob/main/MinorProject2.ipynb\" target=\"_parent\"><img src=\"https://colab.research.google.com/assets/colab-badge.svg\" alt=\"Open In Colab\"/></a>"
      ]
    },
    {
      "cell_type": "markdown",
      "metadata": {
        "id": "TdLvDZfimxUr"
      },
      "source": [
        "Aryan Sahu, Minor Project 2, Learnwik Solutions"
      ]
    },
    {
      "cell_type": "markdown",
      "metadata": {
        "id": "6sE3Woqom3bu"
      },
      "source": [
        "#**Minor Project 2: Image Classification using Convolutional Neural Network**\n",
        "\n",
        "Dataset: CIFAR-10 dataset\n",
        "\n",
        "Algorithm: Convolutional Neural Network (CNN)\n",
        "\n",
        "Methodology:\n",
        "\n",
        "Load the CIFAR-10 dataset and split it into training and testing sets\n",
        "\n",
        "Preprocess the data by normalizing and resizing the images\n",
        "\n",
        "Build a CNN model using Keras\n",
        "\n",
        "Train the model on the training set and evaluate it on the testing set\n",
        "\n",
        "Visualize the model's performance using confusion matrix and classification report"
      ]
    },
    {
      "cell_type": "markdown",
      "metadata": {
        "id": "xizSZkqwm8Od"
      },
      "source": [
        "Step 1: Import the necessary libraries"
      ]
    },
    {
      "cell_type": "code",
      "execution_count": null,
      "metadata": {
        "id": "FJxRutl9muJM"
      },
      "outputs": [],
      "source": [
        "import numpy as np\n",
        "import matplotlib.pyplot as plt\n",
        "from sklearn.metrics import classification_report, confusion_matrix\n",
        "from tensorflow import keras"
      ]
    },
    {
      "cell_type": "markdown",
      "metadata": {
        "id": "JQO-X-L8m82A"
      },
      "source": [
        "Step 2: Load the CIFAR-10 dataset"
      ]
    },
    {
      "cell_type": "code",
      "execution_count": null,
      "metadata": {
        "colab": {
          "base_uri": "https://localhost:8080/"
        },
        "id": "lLqOKnGunE1f",
        "outputId": "58377ffa-d7de-4da7-fdce-f2ee5e29990d"
      },
      "outputs": [
        {
          "name": "stdout",
          "output_type": "stream",
          "text": [
            "Downloading data from https://www.cs.toronto.edu/~kriz/cifar-10-python.tar.gz\n",
            "170498071/170498071 [==============================] - 2s 0us/step\n"
          ]
        }
      ],
      "source": [
        "cifar10 = keras.datasets.cifar10\n",
        "(X_train, y_train), (X_test, y_test) = cifar10.load_data()"
      ]
    },
    {
      "cell_type": "markdown",
      "metadata": {
        "id": "yudSeqjCnFXv"
      },
      "source": [
        "Step 3: Preprocess the data"
      ]
    },
    {
      "cell_type": "code",
      "execution_count": null,
      "metadata": {
        "id": "_xTk1c4DnFyC"
      },
      "outputs": [],
      "source": [
        "# Normalize the pixel values between 0 and 1\n",
        "X_train = X_train / 255.0\n",
        "X_test = X_test / 255.0"
      ]
    },
    {
      "cell_type": "markdown",
      "metadata": {
        "id": "mbNzIFdenGSH"
      },
      "source": [
        "Step 4: Build the CNN model"
      ]
    },
    {
      "cell_type": "code",
      "execution_count": null,
      "metadata": {
        "id": "eOb5Sa-3nGqZ"
      },
      "outputs": [],
      "source": [
        "model = keras.models.Sequential([\n",
        "    keras.layers.Conv2D(32, (3, 3), activation='relu', padding='same', input_shape=(32, 32, 3)),\n",
        "    keras.layers.MaxPooling2D((2, 2)),\n",
        "    keras.layers.Conv2D(64, (3, 3), activation='relu', padding='same'),\n",
        "    keras.layers.MaxPooling2D((2, 2)),\n",
        "    keras.layers.Flatten(),\n",
        "    keras.layers.Dense(128, activation='relu'),\n",
        "    keras.layers.Dense(10, activation='softmax')\n",
        "])"
      ]
    },
    {
      "cell_type": "markdown",
      "metadata": {
        "id": "0yr1Kda4nHGe"
      },
      "source": [
        "Step 5: Compile and train the model"
      ]
    },
    {
      "cell_type": "code",
      "execution_count": null,
      "metadata": {
        "id": "rzMvWXCHnHb0"
      },
      "outputs": [],
      "source": [
        "model.compile(optimizer='adam', loss='sparse_categorical_crossentropy', metrics=['accuracy'])"
      ]
    },
    {
      "cell_type": "markdown",
      "metadata": {
        "id": "ibw1VvsAnzGi"
      },
      "source": [
        "Step 6: Train the model"
      ]
    },
    {
      "cell_type": "code",
      "execution_count": null,
      "metadata": {
        "colab": {
          "base_uri": "https://localhost:8080/"
        },
        "id": "8q-JCe_HnyqZ",
        "outputId": "4db986db-10b0-4ec5-a824-1a76c5da9d6a"
      },
      "outputs": [
        {
          "output_type": "stream",
          "name": "stdout",
          "text": [
            "Epoch 1/10\n",
            "1563/1563 [==============================] - 65s 41ms/step - loss: 0.6055 - accuracy: 0.7883 - val_loss: 0.8841 - val_accuracy: 0.7059\n",
            "Epoch 2/10\n",
            "1563/1563 [==============================] - 60s 38ms/step - loss: 0.5417 - accuracy: 0.8101 - val_loss: 0.8944 - val_accuracy: 0.7127\n",
            "Epoch 3/10\n",
            "1563/1563 [==============================] - 62s 40ms/step - loss: 0.4777 - accuracy: 0.8326 - val_loss: 0.9442 - val_accuracy: 0.7103\n",
            "Epoch 4/10\n",
            "1563/1563 [==============================] - 64s 41ms/step - loss: 0.4144 - accuracy: 0.8541 - val_loss: 1.0075 - val_accuracy: 0.7009\n",
            "Epoch 5/10\n",
            "1563/1563 [==============================] - 61s 39ms/step - loss: 0.3613 - accuracy: 0.8747 - val_loss: 1.1136 - val_accuracy: 0.6985\n",
            "Epoch 6/10\n",
            "1563/1563 [==============================] - 60s 39ms/step - loss: 0.3151 - accuracy: 0.8890 - val_loss: 1.1431 - val_accuracy: 0.6945\n",
            "Epoch 7/10\n",
            "1563/1563 [==============================] - 61s 39ms/step - loss: 0.2679 - accuracy: 0.9046 - val_loss: 1.1982 - val_accuracy: 0.7034\n",
            "Epoch 8/10\n",
            "1563/1563 [==============================] - 61s 39ms/step - loss: 0.2285 - accuracy: 0.9196 - val_loss: 1.3226 - val_accuracy: 0.6880\n",
            "Epoch 9/10\n",
            "1563/1563 [==============================] - 60s 39ms/step - loss: 0.1948 - accuracy: 0.9312 - val_loss: 1.5497 - val_accuracy: 0.6856\n",
            "Epoch 10/10\n",
            "1563/1563 [==============================] - 60s 38ms/step - loss: 0.1713 - accuracy: 0.9394 - val_loss: 1.6145 - val_accuracy: 0.6944\n"
          ]
        }
      ],
      "source": [
        "history = model.fit(X_train, y_train, epochs=10, validation_data=(X_test, y_test))"
      ]
    },
    {
      "cell_type": "markdown",
      "metadata": {
        "id": "2BZMrotRn6B3"
      },
      "source": [
        "Step 7: Evaluate the model on the testing set\n"
      ]
    },
    {
      "cell_type": "code",
      "execution_count": null,
      "metadata": {
        "colab": {
          "base_uri": "https://localhost:8080/"
        },
        "id": "gMvwcb8rn5bl",
        "outputId": "e24fa9be-514b-4f5e-f72a-cc24b2038482"
      },
      "outputs": [
        {
          "output_type": "stream",
          "name": "stdout",
          "text": [
            "313/313 [==============================] - 3s 10ms/step - loss: 1.6145 - accuracy: 0.6944\n",
            "Test accuracy: 0.6944000124931335\n"
          ]
        }
      ],
      "source": [
        "_, test_acc = model.evaluate(X_test, y_test)\n",
        "print('Test accuracy:', test_acc)"
      ]
    },
    {
      "cell_type": "markdown",
      "metadata": {
        "id": "K3QVXJ4qoVzL"
      },
      "source": [
        "Step 8: Visualize the model's performance"
      ]
    },
    {
      "cell_type": "code",
      "execution_count": null,
      "metadata": {
        "colab": {
          "base_uri": "https://localhost:8080/"
        },
        "id": "fssuiyBjoZCC",
        "outputId": "5d74f676-e59c-4631-c5da-8197f1abd3ec"
      },
      "outputs": [
        {
          "output_type": "stream",
          "name": "stdout",
          "text": [
            "313/313 [==============================] - 4s 11ms/step\n",
            "Confusion Matrix:\n",
            "[[697  17  80  23  14  15  14  11  78  51]\n",
            " [ 15 797  13   9   5   7   6   1  32 115]\n",
            " [ 55   4 673  67  58  42  60  23  11   7]\n",
            " [ 22  14  96 523  54 150  84  25  13  19]\n",
            " [ 23   9  98  67 627  36  67  59   9   5]\n",
            " [ 10   4  78 220  41 555  39  43   4   6]\n",
            " [  3   3  79  63  35  10 794   3   5   5]\n",
            " [ 22   4  62  67  57  54  18 700   3  13]\n",
            " [ 55  40  19  31   9  11   7   5 794  29]\n",
            " [ 35  76  25  14   6  10   9  16  25 784]]\n",
            "\n",
            "Classification Report:\n",
            "              precision    recall  f1-score   support\n",
            "\n",
            "           0       0.74      0.70      0.72      1000\n",
            "           1       0.82      0.80      0.81      1000\n",
            "           2       0.55      0.67      0.61      1000\n",
            "           3       0.48      0.52      0.50      1000\n",
            "           4       0.69      0.63      0.66      1000\n",
            "           5       0.62      0.56      0.59      1000\n",
            "           6       0.72      0.79      0.76      1000\n",
            "           7       0.79      0.70      0.74      1000\n",
            "           8       0.82      0.79      0.80      1000\n",
            "           9       0.76      0.78      0.77      1000\n",
            "\n",
            "    accuracy                           0.69     10000\n",
            "   macro avg       0.70      0.69      0.70     10000\n",
            "weighted avg       0.70      0.69      0.70     10000\n",
            "\n"
          ]
        }
      ],
      "source": [
        "# Predict the labels for the testing set\n",
        "y_pred_prob = model.predict(X_test)\n",
        "y_pred = np.argmax(y_pred_prob, axis=1)\n",
        "\n",
        "# Generate a confusion matrix\n",
        "cm = confusion_matrix(y_test, y_pred)\n",
        "\n",
        "# Generate a classification report\n",
        "cr = classification_report(y_test, y_pred)\n",
        "\n",
        "# Print the confusion matrix and classification report\n",
        "print('Confusion Matrix:')\n",
        "print(cm)\n",
        "print('\\nClassification Report:')\n",
        "print(cr)"
      ]
    },
    {
      "cell_type": "markdown",
      "metadata": {
        "id": "ChSN_XRNodFK"
      },
      "source": [
        "Step 9: Plot accuracy and loss curves"
      ]
    },
    {
      "cell_type": "code",
      "execution_count": null,
      "metadata": {
        "colab": {
          "base_uri": "https://localhost:8080/",
          "height": 391
        },
        "id": "2WYwfpO1og89",
        "outputId": "808f3489-a6a4-4f4e-b39a-7c6a16697668"
      },
      "outputs": [
        {
          "output_type": "display_data",
          "data": {
            "text/plain": [
              "<Figure size 1200x400 with 2 Axes>"
            ],
            "image/png": "[encoded data removed]"
          },
          "metadata": {}
        }
      ],
      "source": [
        "plt.figure(figsize=(12, 4))\n",
        "plt.subplot(1, 2, 1)\n",
        "plt.plot(history.history['accuracy'], label='Training Accuracy')\n",
        "plt.plot(history.history['val_accuracy'], label='Validation Accuracy')\n",
        "plt.xlabel('Epochs')\n",
        "plt.ylabel('Accuracy')\n",
        "plt.legend()\n",
        "\n",
        "plt.subplot(1, 2, 2)\n",
        "plt.plot(history.history['loss'], label='Training Loss')\n",
        "plt.plot(history.history['val_loss'], label='Validation Loss')\n",
        "plt.xlabel('Epochs')\n",
        "plt.ylabel('Loss')\n",
        "plt.legend()\n",
        "\n",
        "plt.show()"
      ]
    }
  ],
  "metadata": {
    "colab": {
      "provenance": [],
      "include_colab_link": true
    },
    "kernelspec": {
      "display_name": "Python 3",
      "name": "python3"
    },
    "language_info": {
      "name": "python"
    }
  },
  "nbformat": 4,
  "nbformat_minor": 0
}